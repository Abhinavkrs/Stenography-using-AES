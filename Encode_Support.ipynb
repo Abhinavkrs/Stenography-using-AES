{
 "cells": [
  {
   "cell_type": "code",
   "execution_count": 1,
   "metadata": {
    "collapsed": true
   },
   "outputs": [],
   "source": [
    "import numpy as np\n",
    "import textwrap\n",
    "import cv2\n",
    "import stepic\n",
    "import binascii\n",
    "from Crypto.Cipher import AES\n",
    "from steganography.steganography import Steganography\n",
    "\n",
    "def Blocks_16_Bit(plain_text):\n",
    "    if(len(plain_text)==0):\n",
    "        return \"Invalid input\"\n",
    "    byte_concat = len(plain_text)%16\n",
    "    plain_text_concat = plain_text + (16-byte_concat)*'0'\n",
    "    return plain_text_concat\n",
    "    \n",
    "def Channel_select(path):\n",
    "    img = cv2.imread(path)\n",
    "    blue,green,red = cv2.split(img)\n",
    "    chose_image = raw_input(\"Enter the image channel to encode the key (blue, red, green): \")\n",
    "    channel_dict = {\"red\":red,\"blue\":blue,\"green\":green}\n",
    "    path_split = path.split('.')\n",
    "    selected_image = path_split[0]+chose_image+'.'+path_split[1]\n",
    "    cv2.imwrite(selected_image,channel_dict[chose_image])\n",
    "    \n",
    "    return selected_image\n",
    "\n",
    "def Encode_key(channel_path,key):\n",
    "    path_split = channel_path.split('.')\n",
    "    encoded_path = path_split[0]+'encoded.'+path_split[1]\n",
    "    encoded_image = Steganography.encode(channel_path,encoded_path,key)\n",
    "    return encoded_path\n",
    "\n",
    "def Encode_image(src_img,key):\n",
    "    original_image = cv2.imread(src_img)\n",
    "    key_image = Channel_select(src_img)\n",
    "    #remaining_channel_keys = channel_dict.keys()\n",
    "    encoded_image = Encode_key(key_image,key)\n",
    "    encoded_img = cv2.imread(encoded_image)\n",
    "    cv2.imshow('Encoded Image',encoded_img)\n",
    "    cv2.imshow('Original Image',original_image)\n",
    "    cv2.waitKey(0)\n",
    "    cv2.destroyAllWindows()\n",
    "    \n",
    "def File_process(file_to_encrypt):\n",
    "    file_data = Open_file(file_to_encrypt)\n",
    "    concat_pt = Blocks_16_Bit(file_data)\n",
    "    key = raw_input(\"Enter the key (must be 16 bytes): \")\n",
    "    encryption_suite = AES.new(key)\n",
    "    cipher_text = encryption_suite.encrypt(concat_pt)\n",
    "    encoded_file = open('test_encoded.txt','w+')\n",
    "    encoded_file.write(cipher_text)\n",
    "    return key\n",
    "    \n",
    "\n",
    "def Open_file(path):\n",
    "    data = open(path,'r')\n",
    "    return data.read()\n"
   ]
  }
 ],
 "metadata": {
  "kernelspec": {
   "display_name": "Python 2",
   "language": "python",
   "name": "python2"
  },
  "language_info": {
   "codemirror_mode": {
    "name": "ipython",
    "version": 2
   },
   "file_extension": ".py",
   "mimetype": "text/x-python",
   "name": "python",
   "nbconvert_exporter": "python",
   "pygments_lexer": "ipython2",
   "version": "2.7.13"
  }
 },
 "nbformat": 4,
 "nbformat_minor": 2
}
