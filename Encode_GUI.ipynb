{
 "cells": [
  {
   "cell_type": "code",
   "execution_count": 1,
   "metadata": {},
   "outputs": [
    {
     "name": "stdout",
     "output_type": "stream",
     "text": [
      "Enter the key (must be 16 bytes): 1234567812345678\n",
      "Enter the image channel to encode the key (blue, red, green): red\n"
     ]
    }
   ],
   "source": [
    "from Tkinter import *\n",
    "import cv2\n",
    "import Tkinter, tkFileDialog\n",
    "from Encode_Support import *\n",
    "\n",
    "root = Tkinter.Tk()\n",
    "root.withdraw()\n",
    "\n",
    "file_to_encrypt = tkFileDialog.askopenfilename()\n",
    "key = File_process(file_to_encrypt)\n",
    "\n",
    "src_image = tkFileDialog.askopenfilename()\n",
    "Encode_image(src_image,key)"
   ]
  },
  {
   "cell_type": "code",
   "execution_count": null,
   "metadata": {
    "collapsed": true
   },
   "outputs": [],
   "source": []
  }
 ],
 "metadata": {
  "kernelspec": {
   "display_name": "Python 2",
   "language": "python",
   "name": "python2"
  },
  "language_info": {
   "codemirror_mode": {
    "name": "ipython",
    "version": 2
   },
   "file_extension": ".py",
   "mimetype": "text/x-python",
   "name": "python",
   "nbconvert_exporter": "python",
   "pygments_lexer": "ipython2",
   "version": "2.7.13"
  }
 },
 "nbformat": 4,
 "nbformat_minor": 2
}
